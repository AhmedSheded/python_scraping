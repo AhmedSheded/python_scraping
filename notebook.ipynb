{
 "cells": [
  {
   "cell_type": "code",
   "execution_count": 1,
   "metadata": {
    "collapsed": true,
    "ExecuteTime": {
     "end_time": "2023-05-16T12:19:49.056336992Z",
     "start_time": "2023-05-16T12:19:48.704160808Z"
    }
   },
   "outputs": [],
   "source": [
    "import requests\n",
    "from bs4 import BeautifulSoup\n",
    "import csv"
   ]
  },
  {
   "cell_type": "code",
   "execution_count": 11,
   "outputs": [
    {
     "data": {
      "text/plain": "'https://www.yallakora.com/match-center/?date=11/11/2022'"
     },
     "execution_count": 11,
     "metadata": {},
     "output_type": "execute_result"
    }
   ],
   "source": [
    "date = input('Please enter a Date in the following format MM/DD/YYYY: ')\n",
    "link = f'https://www.yallakora.com/match-center/?date={date}'\n",
    "page = requests.get(link)\n",
    "link"
   ],
   "metadata": {
    "collapsed": false,
    "ExecuteTime": {
     "end_time": "2023-05-16T14:14:08.494784064Z",
     "start_time": "2023-05-16T14:14:01.846729689Z"
    }
   }
  },
  {
   "cell_type": "code",
   "execution_count": 21,
   "outputs": [
    {
     "name": "stdout",
     "output_type": "stream",
     "text": [
      "الدوري الفرنسي\n",
      "5\n"
     ]
    }
   ],
   "source": [
    "def main(page):\n",
    "    src = page.content # byte code\n",
    "    soup = BeautifulSoup(src, 'lxml') # parse to html code\n",
    "    matches_details = []\n",
    "\n",
    "    championships = soup.find_all('div', {'class': 'matchesList'})\n",
    "\n",
    "    def get_match_info(championships):\n",
    "        championship_title = championships.contents[1].find('h2').text.strip()\n",
    "        print(championship_title)\n",
    "    get_match_info(championships=championships[0])\n",
    "\n",
    "\n",
    "main(page)"
   ],
   "metadata": {
    "collapsed": false,
    "ExecuteTime": {
     "end_time": "2023-05-16T14:40:26.358329428Z",
     "start_time": "2023-05-16T14:40:25.993288375Z"
    }
   }
  },
  {
   "cell_type": "code",
   "execution_count": null,
   "outputs": [],
   "source": [],
   "metadata": {
    "collapsed": false
   }
  }
 ],
 "metadata": {
  "kernelspec": {
   "display_name": "Python 3",
   "language": "python",
   "name": "python3"
  },
  "language_info": {
   "codemirror_mode": {
    "name": "ipython",
    "version": 2
   },
   "file_extension": ".py",
   "mimetype": "text/x-python",
   "name": "python",
   "nbconvert_exporter": "python",
   "pygments_lexer": "ipython2",
   "version": "2.7.6"
  }
 },
 "nbformat": 4,
 "nbformat_minor": 0
}
